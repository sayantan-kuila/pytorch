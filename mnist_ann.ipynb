{
 "cells": [
  {
   "cell_type": "code",
   "execution_count": 5,
   "metadata": {},
   "outputs": [],
   "source": [
    "import torch\n",
    "import torch.nn as nn\n",
    "import torch.optim as optim\n",
    "from torch.utils.data import DataLoader\n",
    "import torchvision.datasets as datasets\n",
    "import torchvision.transforms as transforms\n",
    "import matplotlib.pyplot as plt\n",
    "import os"
   ]
  },
  {
   "cell_type": "code",
   "execution_count": 6,
   "metadata": {},
   "outputs": [
    {
     "name": "stdout",
     "output_type": "stream",
     "text": [
      "Using device: cuda\n"
     ]
    }
   ],
   "source": [
    "device = torch.device(\"cuda\" if torch.cuda.is_available() else \"cpu\")\n",
    "print(f\"Using device: {device}\")"
   ]
  },
  {
   "cell_type": "code",
   "execution_count": 7,
   "metadata": {},
   "outputs": [],
   "source": [
    "train_set = datasets.MNIST(root = \" \",\n",
    "                            train = True,\n",
    "                            transform= transforms.ToTensor(),\n",
    "                            download=True)\n",
    "\n",
    "test_set = datasets.MNIST(root = \" \",\n",
    "                            train = False,\n",
    "                            transform= transforms.ToTensor(),\n",
    "                            download=True)\n"
   ]
  },
  {
   "cell_type": "code",
   "execution_count": 8,
   "metadata": {},
   "outputs": [],
   "source": [
    "train_loader = DataLoader(train_set, batch_size=64, shuffle = True)\n",
    "test_loader = DataLoader(test_set, batch_size = 64, shuffle = False)"
   ]
  },
  {
   "cell_type": "code",
   "execution_count": null,
   "metadata": {},
   "outputs": [],
   "source": [
    "class ANN(nn.Module):\n",
    "  def __init__(self):\n",
    "    super(ANN,self).__init__()\n",
    "    self.fc1 = nn.Linear(28*28 , 64)\n",
    "    self.fc2 = nn.Linear(64,128)\n",
    "    self.fc3 = nn.Linear(128,256)\n",
    "    self.fc4 = nn.Linear(256, 10)\n",
    "    self.activation = nn.ReLU()\n",
    "\n",
    "  def forward(self, x):\n",
    "    out = x.view(-1, 28*28) \n",
    "    out = self.fc1(out)\n",
    "    out = self.activation(out)\n",
    "    out = self.fc2(out)\n",
    "    out = self.activation(out)\n",
    "    out = self.fc3(out)\n",
    "    out = self.activation(out)\n",
    "    out = self.fc4(out)\n",
    "    return out"
   ]
  },
  {
   "cell_type": "code",
   "execution_count": 10,
   "metadata": {},
   "outputs": [],
   "source": [
    "model = ANN().to(device)\n",
    "loss_fn = nn.CrossEntropyLoss()\n",
    "optimizer = optim.Adam(model.parameters(), lr=0.001)\n",
    "\n",
    "epochs = 10\n",
    "training_loss = []\n",
    "testing_loss = []\n",
    "training_acc = []\n",
    "testing_acc = []"
   ]
  },
  {
   "cell_type": "code",
   "execution_count": 11,
   "metadata": {},
   "outputs": [
    {
     "name": "stdout",
     "output_type": "stream",
     "text": [
      "Epoch 1: Training Accuracy: 0.90, Testing Accuracy: 0.95, Training Loss: 0.33, Testing Loss: 0.16\n",
      "Epoch 2: Training Accuracy: 0.96, Testing Accuracy: 0.96, Training Loss: 0.13, Testing Loss: 0.12\n",
      "Epoch 3: Training Accuracy: 0.97, Testing Accuracy: 0.97, Training Loss: 0.10, Testing Loss: 0.10\n",
      "Epoch 4: Training Accuracy: 0.98, Testing Accuracy: 0.97, Training Loss: 0.08, Testing Loss: 0.10\n",
      "Epoch 5: Training Accuracy: 0.98, Testing Accuracy: 0.97, Training Loss: 0.06, Testing Loss: 0.09\n",
      "Epoch 6: Training Accuracy: 0.98, Testing Accuracy: 0.97, Training Loss: 0.05, Testing Loss: 0.08\n",
      "Epoch 7: Training Accuracy: 0.99, Testing Accuracy: 0.97, Training Loss: 0.05, Testing Loss: 0.09\n",
      "Epoch 8: Training Accuracy: 0.99, Testing Accuracy: 0.98, Training Loss: 0.04, Testing Loss: 0.07\n",
      "Epoch 9: Training Accuracy: 0.99, Testing Accuracy: 0.98, Training Loss: 0.03, Testing Loss: 0.09\n",
      "Epoch 10: Training Accuracy: 0.99, Testing Accuracy: 0.97, Training Loss: 0.03, Testing Loss: 0.09\n"
     ]
    }
   ],
   "source": [
    "for epoch in range(epochs):\n",
    "    train_loss = 0.0\n",
    "    train_acc = 0.0\n",
    "    model.train()\n",
    "\n",
    "    for images, labels in train_loader:\n",
    "        images, labels = images.to(device), labels.to(device) \n",
    "        optimizer.zero_grad()\n",
    "        output = model(images)\n",
    "\n",
    "        loss = loss_fn(output, labels)\n",
    "        loss.backward()\n",
    "        optimizer.step()\n",
    "\n",
    "        prediction = torch.argmax(output, 1)\n",
    "        train_acc += (prediction == labels).sum().item()\n",
    "        train_loss += loss.item()\n",
    "\n",
    "    training_acc.append(train_acc / len(train_set))\n",
    "    training_loss.append(train_loss / len(train_loader))\n",
    "\n",
    "    test_loss = 0.0\n",
    "    test_acc = 0.0\n",
    "    model.eval()\n",
    "\n",
    "    with torch.no_grad():\n",
    "        for images, labels in test_loader:\n",
    "            images, labels = images.to(device), labels.to(device)\n",
    "\n",
    "            output = model(images)\n",
    "            loss = loss_fn(output, labels)\n",
    "            prediction = torch.argmax(output, 1)\n",
    "\n",
    "            test_acc += (prediction == labels).sum().item()\n",
    "            test_loss += loss.item()\n",
    "\n",
    "    testing_acc.append(test_acc / len(test_set))\n",
    "    testing_loss.append(test_loss / len(test_loader))\n",
    "\n",
    "    print(f\"Epoch {epoch+1}: Training Accuracy: {train_acc/len(train_set):.2f}, \"\n",
    "          f\"Testing Accuracy: {test_acc/len(test_set):.2f}, Training Loss: {train_loss/len(train_loader):.2f}, \"\n",
    "          f\"Testing Loss: {test_loss/len(test_loader):.2f}\")"
   ]
  },
  {
   "cell_type": "code",
   "execution_count": 12,
   "metadata": {},
   "outputs": [
    {
     "data": {
      "image/png": "[encoded data removed]",
      "text/plain": [
       "<Figure size 432x288 with 1 Axes>"
      ]
     },
     "metadata": {
      "needs_background": "light"
     },
     "output_type": "display_data"
    }
   ],
   "source": [
    "plt.plot(range(1, epochs + 1), training_loss, label=\"Training Loss\", marker='o')\n",
    "plt.plot(range(1, epochs + 1), testing_loss, label=\"Testing Loss\", marker='s')\n",
    "\n",
    "plt.xlabel(\"Epochs\")\n",
    "plt.ylabel(\"Loss\")\n",
    "plt.title(\"Training vs Testing Loss\")\n",
    "plt.legend()\n",
    "plt.grid()\n",
    "plt.show()"
   ]
  },
  {
   "cell_type": "code",
   "execution_count": null,
   "metadata": {},
   "outputs": [],
   "source": []
  }
 ],
 "metadata": {
  "kernelspec": {
   "display_name": "Python 3",
   "language": "python",
   "name": "python3"
  },
  "language_info": {
   "codemirror_mode": {
    "name": "ipython",
    "version": 3
   },
   "file_extension": ".py",
   "mimetype": "text/x-python",
   "name": "python",
   "nbconvert_exporter": "python",
   "pygments_lexer": "ipython3",
   "version": "3.10.12"
  }
 },
 "nbformat": 4,
 "nbformat_minor": 2
}
